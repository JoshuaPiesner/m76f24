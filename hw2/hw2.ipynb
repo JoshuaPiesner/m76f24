{
 "cells": [
  {
   "cell_type": "markdown",
   "metadata": {},
   "source": [
    "# Math 76 HW2, Fall 2024\n",
    "\n",
    "**Name:**\n",
    "\n",
    "For all plots, make sure to include a title, x-axis label, and y-axis label."
   ]
  },
  {
   "cell_type": "code",
   "execution_count": 1,
   "metadata": {},
   "outputs": [],
   "source": [
    "import numpy as np\n",
    "import matplotlib.pyplot as plt\n",
    "from scipy.special import gamma as gamma_func\n",
    "\n",
    "from hw2_helper_funcs import *"
   ]
  },
  {
   "cell_type": "markdown",
   "metadata": {},
   "source": [
    "# Problem 3.5"
   ]
  },
  {
   "cell_type": "markdown",
   "metadata": {},
   "source": [
    "## Part A\n",
    "\n",
    "Derive the formula \n",
    "\\begin{align}\n",
    "a_{ij} = \\frac{d}{n} \\left( d^2 + ((i-j)/n)^2 \\right)^{-3/2}, \\quad i,j = 1, \\ldots, n\n",
    "\\end{align}\n",
    "for the matrix elements.\n",
    "\n",
    "**Response:** *(it may be easier to do this on paper and submit it alongside the notebook)*"
   ]
  },
  {
   "cell_type": "markdown",
   "metadata": {},
   "source": [
    "## Part B\n",
    "\n",
    "Compute $ b = A x $ for two different exact solutions $x$: (1) a smooth solution (not a constant or linear vector) and (2) a vector with one or more jump discontinuities. Plot both vectors and label them."
   ]
  },
  {
   "cell_type": "code",
   "execution_count": 3,
   "metadata": {},
   "outputs": [],
   "source": [
    "# Parameters\n",
    "n = 32\n",
    "d = 0.3\n",
    "\n",
    "# Build A matrix\n",
    "A = build_gravity_matrix(n,d)\n",
    "\n",
    "# Smooth x_true\n",
    "x_smooth = # your vector here\n",
    "\n",
    "# Piecewise constant x_true\n",
    "x_piecewise_constant = # your vector here"
   ]
  },
  {
   "cell_type": "code",
   "execution_count": 4,
   "metadata": {},
   "outputs": [],
   "source": [
    "plt.plot(x_smooth, label=\"$x_{\\\\text{smooth}}$\")\n",
    "plt.plot(x_piecewise_constant, label=\"$x_{\\\\text{piecewise}}$\")\n",
    "plt.xlabel(\"index\")\n",
    "plt.ylabel(\"value\")\n",
    "plt.title(\"Smooth and piecewise constant vectors\")\n",
    "plt.legend()\n",
    "plt.show()"
   ]
  },
  {
   "cell_type": "code",
   "execution_count": 19,
   "metadata": {},
   "outputs": [],
   "source": [
    "# Compute rhs vectors\n",
    "b_smooth = A @ x_smooth\n",
    "b_piecewise_constant = A @ x_piecewise_constant"
   ]
  },
  {
   "cell_type": "code",
   "execution_count": 5,
   "metadata": {},
   "outputs": [],
   "source": [
    "plt.plot(b_smooth, label=\"$b = A x_{\\\\text{smooth}}$\")\n",
    "plt.plot(b_piecewise_constant, label=\"$b = A x_{\\\\text{piecewise}}$\")\n",
    "plt.xlabel(\"index\")\n",
    "plt.ylabel(\"value\")\n",
    "plt.title(\"Smooth and piecewise constant vectors ($A x$)\")\n",
    "plt.legend()\n",
    "plt.show()"
   ]
  },
  {
   "cell_type": "markdown",
   "metadata": {},
   "source": [
    "# Part C\n",
    "\n",
    "Study how the RHS vectors change with the depth parameter $d$. *Suggestion: plot the rhs vectors $b$ for varying parameter $d$ on the same plot. Make sure to label each curve with the value of $d$ that was used.*"
   ]
  },
  {
   "cell_type": "markdown",
   "metadata": {},
   "source": [
    "### For smooth $x_{\\text{true}}$"
   ]
  },
  {
   "cell_type": "code",
   "execution_count": 6,
   "metadata": {},
   "outputs": [],
   "source": [
    "######################\n",
    "### Your code here ###\n",
    "######################"
   ]
  },
  {
   "cell_type": "markdown",
   "metadata": {},
   "source": [
    "### For piecewise constant $x_{\\text{true}}$"
   ]
  },
  {
   "cell_type": "code",
   "execution_count": 7,
   "metadata": {},
   "outputs": [],
   "source": [
    "######################\n",
    "### Your code here ###\n",
    "######################"
   ]
  },
  {
   "cell_type": "markdown",
   "metadata": {},
   "source": [
    "## Part D\n",
    "\n",
    "Study how the condition number of $A$ varies for varying $d$ and fixed $n$; then, study how the condition number of $A$ varies for varying $n$ but fixed $d$."
   ]
  },
  {
   "cell_type": "markdown",
   "metadata": {},
   "source": [
    "### Varying $d$, fixed $n$"
   ]
  },
  {
   "cell_type": "code",
   "execution_count": 24,
   "metadata": {},
   "outputs": [],
   "source": [
    "######################\n",
    "### Your code here ###\n",
    "######################"
   ]
  },
  {
   "cell_type": "markdown",
   "metadata": {},
   "source": [
    "**Explanation of observed behavior:**"
   ]
  },
  {
   "cell_type": "markdown",
   "metadata": {},
   "source": [
    "### Varying $n$, fixed $d$"
   ]
  },
  {
   "cell_type": "code",
   "execution_count": 28,
   "metadata": {},
   "outputs": [],
   "source": [
    "######################\n",
    "### Your code here ###\n",
    "######################"
   ]
  },
  {
   "cell_type": "markdown",
   "metadata": {},
   "source": [
    "**Explanation of observed behavior:**"
   ]
  },
  {
   "cell_type": "markdown",
   "metadata": {},
   "source": [
    "## Part E\n",
    "\n",
    "Solve the problem $A x = b$ using a noise-free rhs $b$. Then, try again but instead solve $A x = b + \\delta$ where $\\delta$ is a white noise Gaussian vector $\\delta \\sim \\mathcal{N}(\\mathbf{0}, \\sigma^2 \\mathbf{I})$."
   ]
  },
  {
   "cell_type": "code",
   "execution_count": 19,
   "metadata": {},
   "outputs": [],
   "source": [
    "# Build matrix\n",
    "A = build_gravity_matrix(n,d)\n",
    "\n",
    "# Get exact b's\n",
    "b_smooth = A @ x_smooth\n",
    "b_piecewise_constant = A @ x_piecewise_constant\n"
   ]
  },
  {
   "cell_type": "markdown",
   "metadata": {},
   "source": [
    "Solve $A x = b$ (for both smooth and piecewise constant vectors), and plot"
   ]
  },
  {
   "cell_type": "code",
   "execution_count": 23,
   "metadata": {},
   "outputs": [],
   "source": [
    "######################\n",
    "### Your code here ###\n",
    "######################"
   ]
  },
  {
   "cell_type": "markdown",
   "metadata": {},
   "source": [
    "Solve $A x = b + \\delta$ (for both smooth and piecewise constant vectors), and plot"
   ]
  },
  {
   "cell_type": "code",
   "execution_count": 24,
   "metadata": {},
   "outputs": [],
   "source": [
    "######################\n",
    "### Your code here ###\n",
    "######################"
   ]
  },
  {
   "cell_type": "markdown",
   "metadata": {},
   "source": [
    "How large can $||\\delta||_2$ get before the inverted noise starts to dominate? Design a computational study/visualization below to support your claim.\n",
    "\n",
    "**Response:**"
   ]
  },
  {
   "cell_type": "code",
   "execution_count": 15,
   "metadata": {},
   "outputs": [],
   "source": [
    "######################\n",
    "### Your code here ###\n",
    "######################"
   ]
  },
  {
   "cell_type": "markdown",
   "metadata": {},
   "source": [
    "# Problem 3.6"
   ]
  },
  {
   "cell_type": "markdown",
   "metadata": {},
   "source": [
    "## Part A\n",
    "\n",
    "Generate the problem."
   ]
  },
  {
   "cell_type": "code",
   "execution_count": 26,
   "metadata": {},
   "outputs": [],
   "source": [
    "n = 24\n",
    "A, b_exact, x_exact = shaw(n)"
   ]
  },
  {
   "cell_type": "code",
   "execution_count": 43,
   "metadata": {},
   "outputs": [],
   "source": [
    "plt.imshow(A)\n",
    "plt.title(\"$A$\")\n",
    "plt.colorbar()\n",
    "plt.show()"
   ]
  },
  {
   "cell_type": "markdown",
   "metadata": {},
   "source": [
    "Get the SVD (use `np.linalg.svd`)."
   ]
  },
  {
   "cell_type": "code",
   "execution_count": 28,
   "metadata": {},
   "outputs": [],
   "source": [
    "######################\n",
    "### Your code here ###\n",
    "######################"
   ]
  },
  {
   "cell_type": "code",
   "execution_count": 30,
   "metadata": {},
   "outputs": [],
   "source": [
    "plt.semilogy(s)\n",
    "plt.title(\"Singular values\")\n",
    "plt.xlabel(\"index\")\n",
    "plt.ylabel(\"value\")\n",
    "plt.show()"
   ]
  },
  {
   "cell_type": "code",
   "execution_count": 31,
   "metadata": {},
   "outputs": [],
   "source": [
    "plt.imshow(U)\n",
    "plt.title(\"$U$\")\n",
    "plt.colorbar()\n",
    "plt.show()"
   ]
  },
  {
   "cell_type": "code",
   "execution_count": 32,
   "metadata": {},
   "outputs": [],
   "source": [
    "plt.imshow(V)\n",
    "plt.title(\"$V$\")\n",
    "plt.colorbar()\n",
    "plt.show()"
   ]
  },
  {
   "cell_type": "markdown",
   "metadata": {},
   "source": [
    "What can be said about the number of sign changes in the left and right singular vectors? Try computing the number of sign changes in each vector and plotting them as a function of $i$. For convenience, you can use the function `count_sign_switches` in `hw2_helper_funcs.py`.\n",
    "\n",
    "**Response:**"
   ]
  },
  {
   "cell_type": "code",
   "execution_count": 33,
   "metadata": {},
   "outputs": [],
   "source": [
    "######################\n",
    "### Your code here ###\n",
    "######################"
   ]
  },
  {
   "cell_type": "markdown",
   "metadata": {},
   "source": [
    "## Part B\n",
    "\n",
    "Use the function `picard` from `hw2_helper_funcs.py` to inspect the singular values and SVD coefficients. Is the Picard condition satisfied? Why or why not?\n",
    "\n",
    "**Response:**"
   ]
  },
  {
   "cell_type": "code",
   "execution_count": 34,
   "metadata": {},
   "outputs": [],
   "source": [
    "eta = picard(U, s, b_exact)"
   ]
  },
  {
   "cell_type": "markdown",
   "metadata": {},
   "source": [
    "## Part C\n",
    "\n",
    "Add a small amount of noise to $b_{\\text{exact}}$, i.e., $b = b_{\\text{exact}} + e$ with $\\| e \\|_2/\\| b_{\\text{exact}} \\|_2 = 10^{-10}$. Inpsect the new Picard plot. What happens to the SVD coefficients $u_i^T b$ corresponding to small singular values?\n",
    "\n",
    "**Response:**"
   ]
  },
  {
   "cell_type": "code",
   "execution_count": 31,
   "metadata": {},
   "outputs": [],
   "source": [
    "######################\n",
    "### Your code here ###\n",
    "######################"
   ]
  },
  {
   "cell_type": "code",
   "execution_count": 35,
   "metadata": {},
   "outputs": [],
   "source": [
    "eta = picard(U, s, b_noisy)"
   ]
  },
  {
   "cell_type": "markdown",
   "metadata": {},
   "source": [
    "# Part D\n",
    "\n",
    "Compute the partial sums\n",
    "$$\n",
    "x_k = \\sum_{i=1}^k \\frac{u_i^T b}{\\sigma_i} v_i, \\quad k = 1, \\ldots\n",
    "$$\n",
    "and inspect the vectors $x_k$ (plot them). Try to explain the behavior of these vectors.\n",
    "\n",
    "**Response:** "
   ]
  },
  {
   "cell_type": "code",
   "execution_count": 36,
   "metadata": {},
   "outputs": [],
   "source": [
    "ks = np.arange(1,25,3)\n",
    "fig, axs = plt.subplots(2,4, figsize=(13,8))\n",
    "\n",
    "# Iterate over each axis\n",
    "for j, ax in enumerate(axs.flat):\n",
    "\n",
    "    # Plot exact solution\n",
    "    ax.plot(x_exact, label=\"Exact\", color=\"k\", ls=\"--\")\n",
    "    if j == 0:\n",
    "        ax.legend()\n",
    "\n",
    "    # Title\n",
    "    ax.set_title(f\"$k = $ {ks[j]}\")\n",
    "\n",
    "    # Compute xk \n",
    "\n",
    "    ######################\n",
    "    ### Your code here ###\n",
    "    ######################\n",
    "\n",
    "\n",
    "    # Plot xk\n",
    "    ax.plot(xk)"
   ]
  },
  {
   "cell_type": "markdown",
   "metadata": {},
   "source": [
    "# Problem 3.7"
   ]
  },
  {
   "cell_type": "markdown",
   "metadata": {},
   "source": [
    "## Part A\n",
    "\n",
    "Choose $m = 40$ and $\\eta = 10^{-5}$ and generate a number of instances of white Gaussian noise with standard deviation $\\eta$, by means of `e = eta*np.random.normal(size=m)`. Check that the computed values of $\\mathcal{E}(e)$, $\\mathcal{E}(\\| e \\|_2^2)$, and $\\mathcal{E}(\\| e \\|_2)$ are in accordance with the results in (3.20). Are they?\n",
    "\n",
    "**Response:**"
   ]
  },
  {
   "cell_type": "code",
   "execution_count": 37,
   "metadata": {},
   "outputs": [],
   "source": [
    "# Parameters\n",
    "m = 40\n",
    "eta = 1e-5"
   ]
  },
  {
   "cell_type": "code",
   "execution_count": 38,
   "metadata": {},
   "outputs": [],
   "source": [
    "######################\n",
    "### Your code here ###\n",
    "######################"
   ]
  },
  {
   "cell_type": "code",
   "execution_count": 39,
   "metadata": {},
   "outputs": [],
   "source": [
    "print(f\"Mean of || e ||_2: {mean_e_norm:5e}\")\n",
    "print(f\"Mean of || e ||_2^2: {mean_e_norm_sq:5e}\")"
   ]
  },
  {
   "cell_type": "code",
   "execution_count": 40,
   "metadata": {},
   "outputs": [],
   "source": [
    "print(f\"Theoretical mean of || e ||_2: {theoretical_mean_e_norm:5e}\")\n",
    "print(f\"Theoretical mean of || e ||_2^2: {theoretical_mean_e_norm_sq:5e}\")"
   ]
  },
  {
   "cell_type": "markdown",
   "metadata": {},
   "source": [
    "## Part B\n",
    "\n",
    "Set up the same `shaw` problem from the previous problem, with exact rhs vector $b_{\\text{exact}}$. Add a noise vector $e$ from part A to get a noisy rhs vector $b_{\\text{noisy}}$. What is the relative noise level $\\| e \\|_2 / \\| b_{\\text{exact}} \\|_2$\n",
    "\n",
    "**Response:**"
   ]
  },
  {
   "cell_type": "code",
   "execution_count": 64,
   "metadata": {},
   "outputs": [],
   "source": [
    "# Setup shaw problem\n",
    "A, b_exact, x_exact = shaw(m)\n",
    "\n",
    "# Get SVD\n",
    "\n",
    "######################\n",
    "### Your code here ###\n",
    "######################"
   ]
  },
  {
   "cell_type": "code",
   "execution_count": 41,
   "metadata": {},
   "outputs": [],
   "source": [
    "print(f\"Noise level: {noise_level:3e}\")"
   ]
  },
  {
   "cell_type": "markdown",
   "metadata": {},
   "source": [
    "## Part C\n",
    "\n",
    "Use a semilogarithmic plot to show absolute values of the elements of $U^T b_{\\text{exact}}$ and $U^T e$, and explain the behavior of these plots. In particular, explain why both graphs tend to level off in the right part of the plot, and explain the magnitude of the plateau.\n",
    "\n",
    "**Response:**"
   ]
  },
  {
   "cell_type": "code",
   "execution_count": 42,
   "metadata": {},
   "outputs": [],
   "source": [
    "#######################\n",
    "### Your code here ###\n",
    "######################"
   ]
  },
  {
   "cell_type": "markdown",
   "metadata": {},
   "source": [
    "## Part D\n",
    "\n",
    "Show that if you want to generate a noisy rhs with a given noise level $\\| e \\|_2 / \\| b_{\\text{exact}} \\|_2$ = `rnl`, you should use the Python code:\n",
    "```python\n",
    "e = np.random.normal(m)\n",
    "e = e/np.linalg.norm(e)\n",
    "e = rnl*np.linalg.norm(b_exact)*e\n",
    "b = b_exact + e\n",
    "```\n",
    "\n",
    "**Response:**"
   ]
  }
 ],
 "metadata": {
  "kernelspec": {
   "display_name": "Python 3",
   "language": "python",
   "name": "python3"
  },
  "language_info": {
   "codemirror_mode": {
    "name": "ipython",
    "version": 3
   },
   "file_extension": ".py",
   "mimetype": "text/x-python",
   "name": "python",
   "nbconvert_exporter": "python",
   "pygments_lexer": "ipython3",
   "version": "3.11.6"
  }
 },
 "nbformat": 4,
 "nbformat_minor": 2
}
